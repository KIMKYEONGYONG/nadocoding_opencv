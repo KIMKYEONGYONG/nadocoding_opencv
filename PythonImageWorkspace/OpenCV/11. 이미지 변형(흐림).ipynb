{
 "cells": [
  {
   "cell_type": "markdown",
   "id": "943ad55c",
   "metadata": {},
   "source": [
    "# 11. 이미지 변형(흐림)"
   ]
  },
  {
   "cell_type": "markdown",
   "id": "70230cd3",
   "metadata": {},
   "source": [
    "## 가우시안 블러"
   ]
  },
  {
   "cell_type": "markdown",
   "id": "7aeb74d8",
   "metadata": {},
   "source": [
    "커널 사이즈 변화에 따른 흐림"
   ]
  },
  {
   "cell_type": "code",
   "execution_count": 3,
   "id": "16c2cc97",
   "metadata": {},
   "outputs": [],
   "source": [
    "import cv2\n",
    "img = cv2.imread('images/Lenna.png')\n",
    "\n",
    "# (3,3) , (5,5), (7,7)\n",
    "kernel_3 = cv2.GaussianBlur(img, (3,3), 0)\n",
    "kernel_5 = cv2.GaussianBlur(img, (5,5), 0)\n",
    "kernel_7 = cv2.GaussianBlur(img, (7,7), 0)\n",
    "\n",
    "cv2.imshow('img', img)\n",
    "cv2.imshow('kernel_3', kernel_3)\n",
    "cv2.imshow('kernel_5', kernel_5)\n",
    "cv2.imshow('kernel_7', kernel_7)\n",
    "\n",
    "cv2.waitKey(0)\n",
    "cv2.destroyAllWindows()"
   ]
  },
  {
   "cell_type": "markdown",
   "id": "d04d4ff8",
   "metadata": {},
   "source": [
    "표준 편차 변화에 따른 흐림"
   ]
  },
  {
   "cell_type": "code",
   "execution_count": 5,
   "id": "10589fb4",
   "metadata": {},
   "outputs": [],
   "source": [
    "import cv2\n",
    "img = cv2.imread('images/Lenna.png')\n",
    "\n",
    "# (3,3) , (5,5), (7,7) #\n",
    "sigma_3 = cv2.GaussianBlur(img, (0,0), 1) # sigmaX - 가우시안 커널의 x 방향의 표준 편차\n",
    "sigma_5 = cv2.GaussianBlur(img, (0,0), 2)\n",
    "sigma_7 = cv2.GaussianBlur(img, (0,0), 3)\n",
    "\n",
    "cv2.imshow('img', img)\n",
    "cv2.imshow('sigma_3', sigma_3)\n",
    "cv2.imshow('sigma_5', sigma_5)\n",
    "cv2.imshow('sigma_7', sigma_7)\n",
    "\n",
    "cv2.waitKey(0)\n",
    "cv2.destroyAllWindows()"
   ]
  },
  {
   "cell_type": "code",
   "execution_count": null,
   "id": "5653aefe",
   "metadata": {},
   "outputs": [],
   "source": []
  }
 ],
 "metadata": {
  "kernelspec": {
   "display_name": "Python 3 (ipykernel)",
   "language": "python",
   "name": "python3"
  },
  "language_info": {
   "codemirror_mode": {
    "name": "ipython",
    "version": 3
   },
   "file_extension": ".py",
   "mimetype": "text/x-python",
   "name": "python",
   "nbconvert_exporter": "python",
   "pygments_lexer": "ipython3",
   "version": "3.9.7"
  }
 },
 "nbformat": 4,
 "nbformat_minor": 5
}
