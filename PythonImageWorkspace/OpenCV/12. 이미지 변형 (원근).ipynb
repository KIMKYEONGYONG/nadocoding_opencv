{
 "cells": [
  {
   "cell_type": "markdown",
   "id": "fd2918c2",
   "metadata": {},
   "source": [
    "# 12. 이미지 변형 (원근)"
   ]
  },
  {
   "cell_type": "markdown",
   "id": "82f7917f",
   "metadata": {},
   "source": [
    "## 사다리꼴 이미지 펼치기"
   ]
  },
  {
   "cell_type": "code",
   "execution_count": 12,
   "id": "33999d12",
   "metadata": {},
   "outputs": [],
   "source": [
    "import cv2\n",
    "import numpy as np\n",
    "img = cv2.imread('images/Lenna.png')\n",
    "\n",
    "width, height = 300, 300 \n",
    "\n",
    "# 좌상, 우상, 우하, 좌파\n",
    "src = np.array([[100,100],[200,100],[200,200],[100,200]], dtype=np.float32) # input 4개 지점\n",
    "dst = np.array([[0,0],[width,0],[width,height],[0,height]], dtype=np.float32) # input 4개 지점\n",
    "\n",
    "\n",
    "matrix = cv2.getPerspectiveTransform(src,dst)\n",
    "result = cv2.warpPerspective(img, matrix, (width, height))\n",
    "\n",
    "cv2.imshow('img', img)\n",
    "cv2.imshow('result', result)\n",
    "\n",
    "cv2.waitKey(0)\n",
    "cv2.destroyAllWindows()"
   ]
  },
  {
   "cell_type": "markdown",
   "id": "effb9738",
   "metadata": {},
   "source": [
    "## 회전된 이미지 올바르게 세우기"
   ]
  },
  {
   "cell_type": "code",
   "execution_count": 13,
   "id": "12026019",
   "metadata": {},
   "outputs": [],
   "source": [
    "import cv2\n",
    "import numpy as np\n",
    "img = cv2.imread('images/poker.jpg')\n",
    "\n",
    "width, height = 530, 710\n",
    "\n",
    "# 좌상, 우상, 우하, 좌파\n",
    "src = np.array([[702,143],[1133,414],[726,1007],[276,700]], dtype=np.float32) # input 4개 지점\n",
    "dst = np.array([[0,0],[width,0],[width,height],[0,height]], dtype=np.float32) # input 4개 지점\n",
    "\n",
    "\n",
    "matrix = cv2.getPerspectiveTransform(src,dst)\n",
    "result = cv2.warpPerspective(img, matrix, (width, height))\n",
    "\n",
    "cv2.imshow('img', img)\n",
    "cv2.imshow('result', result)\n",
    "\n",
    "cv2.waitKey(0)\n",
    "cv2.destroyAllWindows()"
   ]
  },
  {
   "cell_type": "markdown",
   "id": "d2468c74",
   "metadata": {},
   "source": [
    "## 미니 프로젝트 : 반자동 문서 스캐너"
   ]
  },
  {
   "cell_type": "markdown",
   "id": "c821ee19",
   "metadata": {},
   "source": [
    "#### 마우스 이벤트 등록"
   ]
  },
  {
   "cell_type": "code",
   "execution_count": 26,
   "id": "2f364b53",
   "metadata": {},
   "outputs": [
    {
     "name": "stdout",
     "output_type": "stream",
     "text": [
      "왼쪽 버튼 Down\n",
      "738 563\n",
      "왼쪽 버튼 UP\n",
      "738 563\n",
      "왼쪽 버튼 Double Click\n",
      "왼쪽 버튼 UP\n",
      "738 563\n",
      "왼쪽 버튼 Down\n",
      "738 563\n",
      "왼쪽 버튼 UP\n",
      "738 563\n",
      "왼쪽 버튼 Double Click\n",
      "왼쪽 버튼 UP\n",
      "738 563\n",
      "오른쪽 버튼 Down\n"
     ]
    }
   ],
   "source": [
    "import cv2\n",
    "\n",
    "def mouse_handler(event, x, y, flags, param):\n",
    "    if event == cv2.EVENT_LBUTTONDOWN:\n",
    "        print('왼쪽 버튼 Down')\n",
    "        print(x,y)\n",
    "    elif event == cv2.EVENT_LBUTTONUP:\n",
    "        print('왼쪽 버튼 UP')\n",
    "        print(x,y)\n",
    "    elif event == cv2.EVENT_LBUTTONDBLCLK:\n",
    "        print('왼쪽 버튼 Double Click')\n",
    "   #elif event == cv2.EVENT_MOUSEMOVE:\n",
    "   #     print('마우스 이동')\n",
    "    elif event == cv2.EVENT_RBUTTONDOWN:\n",
    "        print('오른쪽 버튼 Down')\n",
    "\n",
    "img = cv2.imread('images/poker.jpg')\n",
    "cv2.namedWindow('img')\n",
    "cv2.setMouseCallback('img', mouse_handler)\n",
    "\n",
    "cv2.imshow('img', img)\n",
    "\n",
    "cv2.waitKey(0)\n",
    "cv2.destroyAllWindows()"
   ]
  },
  {
   "cell_type": "markdown",
   "id": "44c53173",
   "metadata": {},
   "source": [
    "### 프로젝트"
   ]
  },
  {
   "cell_type": "code",
   "execution_count": 34,
   "id": "7d478edf",
   "metadata": {},
   "outputs": [],
   "source": [
    "import cv2\n",
    "\n",
    "point_list = []\n",
    "src_img = cv2.imread('images/poker.jpg')\n",
    "\n",
    "COLOR = (255, 0, 255)\n",
    "THICKNESS = 3\n",
    "drawing = False # 선을 그릴지 여부\n",
    "\n",
    "def mouse_handler(event, x, y, flags, param):\n",
    "    \n",
    "    global drawing\n",
    "    dst_img = src_img.copy()\n",
    "    \n",
    "    if event == cv2.EVENT_LBUTTONDOWN:\n",
    "        drawing = True\n",
    "        point_list.append((x,y))\n",
    "    \n",
    "    if drawing:\n",
    "        prev_point = None\n",
    "        for point in point_list:\n",
    "            cv2.circle(dst_img, point, 15, COLOR, cv2.FILLED)\n",
    "            if prev_point:\n",
    "                cv2.line(dst_img, prev_point, point, COLOR, THICKNESS, cv2.LINE_AA)\n",
    "            prev_point = point\n",
    "\n",
    "        next_point = (x,y)    \n",
    "        if len(point_list) == 4:\n",
    "            show_result()\n",
    "            next_point = point_list[0]\n",
    "            \n",
    "        cv2.line(dst_img, prev_point, next_point, COLOR, THICKNESS, cv2.LINE_AA)\n",
    "    \n",
    "    cv2.imshow('img', dst_img)\n",
    "\n",
    "def show_result():\n",
    "    width, height = 530, 710\n",
    "    # 좌상, 우상, 우하, 좌파\n",
    "    src = np.float32(point_list)\n",
    "    dst = np.array([[0,0],[width,0],[width,height],[0,height]], dtype=np.float32) # input 4개 지점\n",
    "  \n",
    "    matrix = cv2.getPerspectiveTransform(src,dst)\n",
    "    result = cv2.warpPerspective(src_img, matrix, (width, height))\n",
    "    cv2.imshow('result', result)\n",
    "\n",
    "\n",
    "cv2.namedWindow('img')\n",
    "cv2.setMouseCallback('img', mouse_handler)\n",
    "\n",
    "cv2.imshow('img', img)\n",
    "\n",
    "cv2.waitKey(0)\n",
    "cv2.destroyAllWindows()"
   ]
  },
  {
   "cell_type": "code",
   "execution_count": null,
   "id": "741e3d47",
   "metadata": {},
   "outputs": [],
   "source": []
  }
 ],
 "metadata": {
  "kernelspec": {
   "display_name": "Python 3 (ipykernel)",
   "language": "python",
   "name": "python3"
  },
  "language_info": {
   "codemirror_mode": {
    "name": "ipython",
    "version": 3
   },
   "file_extension": ".py",
   "mimetype": "text/x-python",
   "name": "python",
   "nbconvert_exporter": "python",
   "pygments_lexer": "ipython3",
   "version": "3.9.7"
  }
 },
 "nbformat": 4,
 "nbformat_minor": 5
}
