{
 "cells": [
  {
   "cell_type": "markdown",
   "id": "e5895210",
   "metadata": {},
   "source": [
    "# 2. 동영상 출력"
   ]
  },
  {
   "cell_type": "code",
   "execution_count": 13,
   "id": "5a8e3027",
   "metadata": {},
   "outputs": [
    {
     "name": "stdout",
     "output_type": "stream",
     "text": [
      "사용자 입력에 의해 종료\n"
     ]
    }
   ],
   "source": [
    "import cv2\n",
    "cap = cv2.VideoCapture('videos/video.mp4')\n",
    "\n",
    "while cap.isOpened(): # 동영상 파일이 열렸을때\n",
    "    ret, frame = cap.read() # ret : 성공 여부, frame : 받아온 이미지\n",
    "    if not ret:\n",
    "        print('더 이상 가져올 프레임이 없음')\n",
    "        break\n",
    "    \n",
    "    cv2.imshow('video', frame)\n",
    "    \n",
    "    if cv2.waitKey(25) == ord('q'):\n",
    "        print(\"사용자 입력에 의해 종료\")\n",
    "        break\n",
    "        \n",
    "cap.release() # 자원 해제\n",
    "cv2.destroyAllWindows()\n"
   ]
  },
  {
   "cell_type": "markdown",
   "id": "490be78b",
   "metadata": {},
   "source": [
    "## 카메라 출력"
   ]
  },
  {
   "cell_type": "code",
   "execution_count": 14,
   "id": "8b72284d",
   "metadata": {},
   "outputs": [
    {
     "name": "stdout",
     "output_type": "stream",
     "text": [
      "사용자 입력에 의해 종료\n"
     ]
    }
   ],
   "source": [
    "import cv2\n",
    "cap = cv2.VideoCapture(0)\n",
    "\n",
    "if not cap.isOpened(): # 카메라가 잘 열리지 않은 경우\n",
    "    exit() # 프로그램 종료\n",
    "    \n",
    "while True:\n",
    "    ret, frame = cap.read() # ret : 성공 여부, frame : 받아온 이미지\n",
    "    if not ret:\n",
    "        break\n",
    "    \n",
    "    cv2.imshow('camera', frame)\n",
    "    \n",
    "    if cv2.waitKey(25) == ord('q'):\n",
    "        print(\"사용자 입력에 의해 종료\")\n",
    "        break\n",
    "        \n",
    "cap.release() # 자원 해제\n",
    "cv2.destroyAllWindows()\n"
   ]
  },
  {
   "cell_type": "code",
   "execution_count": null,
   "id": "f30b333b",
   "metadata": {},
   "outputs": [],
   "source": []
  }
 ],
 "metadata": {
  "kernelspec": {
   "display_name": "Python 3 (ipykernel)",
   "language": "python",
   "name": "python3"
  },
  "language_info": {
   "codemirror_mode": {
    "name": "ipython",
    "version": 3
   },
   "file_extension": ".py",
   "mimetype": "text/x-python",
   "name": "python",
   "nbconvert_exporter": "python",
   "pygments_lexer": "ipython3",
   "version": "3.9.7"
  }
 },
 "nbformat": 4,
 "nbformat_minor": 5
}
