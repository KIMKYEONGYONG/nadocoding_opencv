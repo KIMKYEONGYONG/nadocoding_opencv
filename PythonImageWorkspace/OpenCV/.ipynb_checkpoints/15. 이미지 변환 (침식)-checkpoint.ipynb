{
 "cells": [
  {
   "cell_type": "markdown",
   "id": "5960e618",
   "metadata": {},
   "source": [
    "# 15. 이미지 변환 (침식 Erosion)"
   ]
  },
  {
   "cell_type": "markdown",
   "id": "00f57266",
   "metadata": {},
   "source": [
    "## 이미지를 깍아서 노이즈 제거\n",
    "\n",
    "흰색 영역의 외곽 픽셀을 검은색으로 변경"
   ]
  },
  {
   "cell_type": "code",
   "execution_count": null,
   "id": "0e0fe61b",
   "metadata": {},
   "outputs": [],
   "source": [
    "import cv2\n",
    "import numpy as np\n",
    "img = cv2.imread('images/Lenna.png', cv2.IMREAD_GRAYSCALE)\n",
    "\n",
    "kernel = np.ones((3,3), dtype=np.uint8)\n",
    "erode1 = cv2.erode(img, kernel, iterations=1)\n",
    "erode2 = cv2.erode(img, kernel, iterations=2)\n",
    "erode3 = cv2.erode(img, kernel, iterations=3)\n",
    "\n",
    "\n",
    "cv2.imshow('img', img)\n",
    "cv2.imshow('erode1', erode1)\n",
    "cv2.imshow('erode2', erode2)\n",
    "cv2.imshow('erode3', erode3)\n",
    "\n",
    "cv2.waitKey(0)\n",
    "cv2.destroyAllWindows()"
   ]
  }
 ],
 "metadata": {
  "kernelspec": {
   "display_name": "Python 3 (ipykernel)",
   "language": "python",
   "name": "python3"
  },
  "language_info": {
   "codemirror_mode": {
    "name": "ipython",
    "version": 3
   },
   "file_extension": ".py",
   "mimetype": "text/x-python",
   "name": "python",
   "nbconvert_exporter": "python",
   "pygments_lexer": "ipython3",
   "version": "3.9.7"
  }
 },
 "nbformat": 4,
 "nbformat_minor": 5
}
